{
 "cells": [
  {
   "cell_type": "code",
   "execution_count": 1,
   "id": "707ac0c3-74d7-45ff-9df2-b4dcf8980169",
   "metadata": {},
   "outputs": [],
   "source": [
    "%matplotlib inline"
   ]
  },
  {
   "cell_type": "markdown",
   "id": "5637b3d6-4700-4f27-b8d8-255c04140748",
   "metadata": {},
   "source": [
    "## 4.2 Linear Regression of an Indicator Matrix"
   ]
  },
  {
   "cell_type": "markdown",
   "id": "659ec4ba-503b-4084-9e5e-4e03463edbdd",
   "metadata": {},
   "source": [
    "Set $Y$ as an indicator response matrix via the one-hot encode.\n",
    "\n",
    "If $\\mathcal{G}$ has $K$ classes and there are $N$ obersations $Y$ is a $N \\times K$ matrix.\n",
    "For e.g. $Y=\\left\\{cat,dog,cat,cow\\right\\}$ then \n",
    "\n",
    "$Y=\\left(\\begin{matrix}1&0&0\\\\0&1&0\\\\1&0&0\\\\0&0&1\\\\\\end{matrix}\\right)$"
   ]
  },
  {
   "cell_type": "markdown",
   "id": "614039e1-4c59-47fd-96ee-e4b096273237",
   "metadata": {},
   "source": [
    "### Model"
   ]
  },
  {
   "cell_type": "markdown",
   "id": "addffc22-a4ae-4ab6-bb3d-304fe51db4af",
   "metadata": {},
   "source": [
    "The coefficients are in the matrix $(p+1,K)$ such as we have a coefficient vector for each class. \n",
    "$$Y_{\\left(N,K\\right)}=X_{\\left(N,p+1\\right)}B_{\\left(p+1,K\\right)}$$"
   ]
  },
  {
   "cell_type": "markdown",
   "id": "0b9ade04-7a20-457c-b248-9659d930b759",
   "metadata": {},
   "source": [
    "### Fit"
   ]
  },
  {
   "cell_type": "markdown",
   "id": "3182875e-0def-41b4-a41f-585ab93bb82c",
   "metadata": {},
   "source": [
    "In a similar way than the multiple linear regression the coefficients obtain with OLS are equal to,\n",
    "$$\\hat{B}=\\left(X^TX\\right)^{-1}X^TY$$\n",
    "Then,\n",
    "$$\\hat{Y}=X\\left(X^TX\\right)^{-1}X^TY$$"
   ]
  },
  {
   "cell_type": "markdown",
   "id": "0cba4790-cafe-4d05-89f1-a84d2db72a20",
   "metadata": {},
   "source": [
    "### Prediction"
   ]
  },
  {
   "cell_type": "markdown",
   "id": "6a86918b-67fe-43a4-a89b-c82c0d4501ff",
   "metadata": {},
   "source": [
    "- Compute the fitted output:\n",
    "$$\\hat{f}\\left(x\\right)_{\\left(1,K\\right)}^T=\\left(1,x^T\\right)_{\\left(1,p+1\\right)}{\\hat{B}}_{\\left(p+1,K\\right)}$$\n",
    "With $\\hat{f}\\left(x\\right)_{\\left(1,K\\right)}^T=\\left(\\begin{matrix}{\\hat{f}}_1\\left(x\\right)&{\\hat{f}}_2\\left(x\\right)&\\ldots&{\\hat{f}}_K\\left(x\\right)\\\\\\end{matrix}\\right)$\n",
    "\n",
    "- Identify the largest component and classify accordingly:\n",
    "$$\\hat{G}\\left(x\\right)=\\underset{k\\in\\mathcal{G}}{argmax}{\\hat{f}}_k\\left(x\\right) \\tag{4.4}$$"
   ]
  },
  {
   "cell_type": "markdown",
   "id": "862d95f5-9503-4750-9d4f-602d91e6d585",
   "metadata": {},
   "source": [
    "### Rationale of this approach"
   ]
  },
  {
   "cell_type": "markdown",
   "id": "03108772-5d71-4011-80eb-2bba9edc8219",
   "metadata": {},
   "source": [
    "The regression is an estimate of conditional expectation such that in the classification framework, $P(Y_k|X=x)=E(Y_k|X=x)$.\n",
    "\n",
    "Properties:\n",
    "- $\\sum_{k\\in\\mathcal{G}}{{\\hat{f}}_k\\left(x\\right)}=1$\n",
    "- ${\\hat{f}}_k\\left(x\\right)$ could be less than 0 or greater than 1, this violation doesn't imply that this approach will not work\n",
    "\n",
    "If we allow linear regression onto basis expansions $h(X)$ of the inputs, this approach can lead to consistent estimates of the probabilities (Chapter 5).\n",
    "\n"
   ]
  },
  {
   "cell_type": "markdown",
   "id": "f05c11b5-21c5-4e05-b947-53bce4c3877a",
   "metadata": {},
   "source": [
    "### Simplistic viewpoint"
   ]
  },
  {
   "cell_type": "markdown",
   "id": "17a8f865-5bf4-43af-a1c0-2760d04760fd",
   "metadata": {},
   "source": [
    "$t_k$ is a $k$th column of the target indentity matrix $(K \\times K)$ with the response vector $y_i$ the $i$th row of the observation $i$ which has the value $y_i=t_k$ if $g_i=k$.\n",
    "\n",
    "We could fit the linear model by least squares. The criterion is a sum-of-squared Euclidean distances of the fitted vectors from their targets.\n",
    "$$\\hat{B}=\\underset{B}{argmin}{\\sum_{i=1}^{N}{\\lVert y_i-\\left[\\left(1,x_i^T\\right)B\\right]^T \\rVert _{2}^2}} \\tag {4.5}$$\n",
    "Inside the $L2$ norm squared we have then a $(1 \\times K)$ matrix such that,\n",
    "\n",
    "$\\left(y_i\\right)_{(1 \\times K)}-\\left[\\left(1,x_i^T\\right)_{\\left(1 \\times p+1\\right)}B_{\\left(p+1 \\times K\\right)}\\right]_{(1 \\times K)}^T$\n",
    "\n",
    "Then the new observation is classified by computing its fitted vector $\\hat{f}(x)$ and by classifying to the closest target (equivalent to the method used in $(4.4)$):\n",
    "$$\\hat{G}\\left(x\\right)=\\underset{k}{argmin}{\\lVert \\hat{f}\\left(x\\right)-t_k \\rVert_{2}^2} \\tag {4.6}$$"
   ]
  },
  {
   "cell_type": "markdown",
   "id": "8dba6709-62f4-4d7f-949b-9a1f32e49436",
   "metadata": {},
   "source": [
    "### Issue with regression approach: masked class"
   ]
  },
  {
   "cell_type": "markdown",
   "id": "ebbb30a7-ed9d-4ae2-9142-f8b1f3588a09",
   "metadata": {},
   "source": [
    "When the number of classes is greater than 3, classes can be masked by others."
   ]
  },
  {
   "cell_type": "markdown",
   "id": "c58bc5a6-0dbe-4287-a522-25d6b2b78138",
   "metadata": {},
   "source": [
    "#### Extrem case: linear regression 3 \"line up\" classes"
   ]
  },
  {
   "cell_type": "code",
   "execution_count": 2,
   "id": "7e2d3a3d-15b8-4a17-8939-face92fbafef",
   "metadata": {},
   "outputs": [],
   "source": [
    "import matplotlib.pyplot as plt\n",
    "from sklearn.datasets import make_blobs"
   ]
  },
  {
   "cell_type": "markdown",
   "id": "7138e80e-aa91-4799-8f18-8e1901ed90ef",
   "metadata": {},
   "source": [
    "##### Data"
   ]
  },
  {
   "cell_type": "code",
   "execution_count": 3,
   "id": "9967b699-5399-4db5-8c08-bbd0a3c933e2",
   "metadata": {},
   "outputs": [
    {
     "data": {
      "image/png": "[encoded data removed]",
      "text/plain": [
       "<Figure size 500x350 with 1 Axes>"
      ]
     },
     "metadata": {},
     "output_type": "display_data"
    }
   ],
   "source": [
    "# Plot data\n",
    "\n",
    "centers = [(-2.5, -2.5), (0, 0), (2.5, 2.5)]\n",
    "X, y = make_blobs(n_samples=600, n_features=2, cluster_std=0.7,\n",
    "                  centers=centers, random_state=0)\n",
    "\n",
    "fig, ax = plt.subplots(1, figsize=(5, 3.5))\n",
    "\n",
    "X_C0 = X[y==0, :]\n",
    "X_C1 = X[y==1, :]\n",
    "X_C2 = X[y==2, :]\n",
    "\n",
    "ax.scatter(X_C0[:, 0], X_C0[:, 1], s=3, color=\"orange\", alpha=0.7)\n",
    "ax.scatter(X_C1[:, 0], X_C1[:, 1], s=3, color=\"blue\", alpha=0.7)\n",
    "ax.scatter(X_C2[:, 0], X_C2[:, 1], s=3, color=\"green\", alpha=0.7)\n",
    "\n",
    "ax.set_xlabel(\"X1\")\n",
    "ax.set_ylabel(\"X2\")\n",
    "\n",
    "plt.show()"
   ]
  },
  {
   "cell_type": "code",
   "execution_count": 4,
   "id": "322e19d4-ec93-43ff-93ad-5aee421ca32d",
   "metadata": {},
   "outputs": [],
   "source": [
    "from sklearn.preprocessing import OneHotEncoder"
   ]
  },
  {
   "cell_type": "code",
   "execution_count": 5,
   "id": "7382fc03-a8b6-4d71-aced-7fbc686aebe4",
   "metadata": {},
   "outputs": [],
   "source": [
    "# convert y to indicator matrix\n",
    "enc = OneHotEncoder() \n",
    "y_one_hot = enc.fit_transform(y.reshape(-1,1)).toarray()"
   ]
  },
  {
   "cell_type": "markdown",
   "id": "29e5aefb-31a6-457f-b70b-3ceb67552074",
   "metadata": {},
   "source": [
    "##### Fit"
   ]
  },
  {
   "cell_type": "code",
   "execution_count": 6,
   "id": "cc6f6455-d51a-4459-b923-65d819fad14b",
   "metadata": {},
   "outputs": [],
   "source": [
    "import numpy as np\n",
    "from sklearn.linear_model import LinearRegression"
   ]
  },
  {
   "cell_type": "code",
   "execution_count": 7,
   "id": "b0f1786f-aa0c-45dc-a2e8-0fd80c5a7158",
   "metadata": {},
   "outputs": [],
   "source": [
    "reg_linear = LinearRegression(fit_intercept=True).fit(X, y_one_hot)"
   ]
  },
  {
   "cell_type": "markdown",
   "id": "291d4092-487b-4c68-ad94-05b6d38faac4",
   "metadata": {},
   "source": [
    "##### Grid predictions"
   ]
  },
  {
   "cell_type": "code",
   "execution_count": 8,
   "id": "33c5e2c8-22c6-42c6-ada1-2aca54ff1cbb",
   "metadata": {},
   "outputs": [],
   "source": [
    "def y_pred_to_binary(row):\n",
    "    return (row == row.max(axis=1)[:,None]).astype(int)"
   ]
  },
  {
   "cell_type": "code",
   "execution_count": 9,
   "id": "545fac46-6d2d-4ea5-86f8-1f95ea416e95",
   "metadata": {},
   "outputs": [],
   "source": [
    "y_pred = reg_linear.predict(X)\n",
    "y_pred =  y_pred_to_binary(y_pred)"
   ]
  },
  {
   "cell_type": "code",
   "execution_count": 10,
   "id": "cd5c1574-6f5b-4605-a568-783a67668468",
   "metadata": {},
   "outputs": [],
   "source": [
    "x1_min = np.min(X[:, 0])\n",
    "x1_max = np.max(X[:, 0])\n",
    "x2_min = np.min(X[:, 1])\n",
    "x2_max = np.max(X[:, 1])\n",
    "\n",
    "nb_point_ax = 70\n",
    "\n",
    "X_grid = np.array([[i,j]\n",
    "                   for i in np.linspace(x1_min, x1_max, nb_point_ax)\n",
    "                   for j in np.linspace(x2_min, x2_max, nb_point_ax)]\n",
    "                 )\n",
    "\n",
    "y_pred_grid = reg_linear.predict(X_grid)\n",
    "\n",
    "y_pred_grid = y_pred_to_binary(y_pred_grid)"
   ]
  },
  {
   "cell_type": "code",
   "execution_count": 11,
   "id": "4a7cfb57-d3b7-44f4-af0a-7d4b2a33aca2",
   "metadata": {},
   "outputs": [
    {
     "data": {
      "image/png": "[encoded data removed]",
      "text/plain": [
       "<Figure size 500x350 with 1 Axes>"
      ]
     },
     "metadata": {},
     "output_type": "display_data"
    }
   ],
   "source": [
    "fig, ax = plt.subplots(1, figsize=(5, 3.5))\n",
    "\n",
    "# Data plot\n",
    "X_C0 = X[y==0, :]\n",
    "X_C1 = X[y==1, :]\n",
    "X_C2 = X[y==2, :]\n",
    "\n",
    "ax.scatter(X_C0[:, 0], X_C0[:, 1], s=3, color=\"orange\", alpha=0.7)\n",
    "ax.scatter(X_C1[:, 0], X_C1[:, 1], s=3, color=\"blue\", alpha=0.7)\n",
    "ax.scatter(X_C2[:, 0], X_C2[:, 1], s=3, color=\"green\", alpha=0.7)\n",
    "\n",
    "# Grid prediction plot\n",
    "X_grid_C0 = X_grid[y_pred_grid[:, 0]==1, :]\n",
    "X_grid_C1 = X_grid[y_pred_grid[:, 1]==1, :]\n",
    "X_grid_C2 = X_grid[y_pred_grid[:, 2]==1, :]\n",
    "\n",
    "ax.scatter(X_grid_C0[:, 0], X_grid_C0[:, 1], s=1, color=\"orange\", alpha=0.5)\n",
    "ax.scatter(X_grid_C1[:, 0], X_grid_C1[:, 1], s=3, color=\"blue\", alpha=0.2)\n",
    "ax.scatter(X_grid_C2[:, 0], X_grid_C2[:, 1], s=3, color=\"green\", alpha=0.2)\n",
    "\n",
    "ax.set_xlabel(\"X1\")\n",
    "ax.set_ylabel(\"X2\")\n",
    "\n",
    "plt.show()\n"
   ]
  },
  {
   "cell_type": "markdown",
   "id": "2633cf99-c719-48b2-ae60-cc4d6a4c753f",
   "metadata": {},
   "source": [
    "Almost all the space is determined by class 1 and 3."
   ]
  },
  {
   "cell_type": "markdown",
   "id": "70a5d23f-309a-4d43-af43-4f8d8e5ae22d",
   "metadata": {},
   "source": [
    "##### Train predictions "
   ]
  },
  {
   "cell_type": "code",
   "execution_count": 12,
   "id": "fbe41260-88db-4fb6-ba91-9c3edd721936",
   "metadata": {},
   "outputs": [
    {
     "data": {
      "image/png": "[encoded data removed]",
      "text/plain": [
       "<Figure size 500x350 with 1 Axes>"
      ]
     },
     "metadata": {},
     "output_type": "display_data"
    }
   ],
   "source": [
    "fig, ax = plt.subplots(1, figsize=(5, 3.5))\n",
    "\n",
    "# Data plot\n",
    "X_pred_C0 = X[y_pred[:, 0]==1, :]\n",
    "X_pred_C1 = X[y_pred[:, 1]==1, :]\n",
    "X_pred_C2 = X[y_pred[:, 2]==1, :]\n",
    "\n",
    "ax.scatter(X_pred_C0[:, 0], X_pred_C0[:, 1], s=3, color=\"orange\", alpha=0.7)\n",
    "ax.scatter(X_pred_C1[:, 0], X_pred_C1[:, 1], s=3, color=\"blue\", alpha=0.7)\n",
    "ax.scatter(X_pred_C2[:, 0], X_pred_C2[:, 1], s=3, color=\"green\", alpha=0.7)\n",
    "\n",
    "ax.set_xlabel(\"X1\")\n",
    "ax.set_ylabel(\"X2\")\n",
    "\n",
    "plt.show()"
   ]
  },
  {
   "cell_type": "markdown",
   "id": "3409361b-a884-4038-bf75-92da8462d04b",
   "metadata": {},
   "source": [
    "Observations from class 2 are classified either as class 1 or class 3."
   ]
  },
  {
   "cell_type": "markdown",
   "id": "1a062365-599f-49be-b6c2-d355b5431959",
   "metadata": {},
   "source": [
    "#### More realistic case: vowel data"
   ]
  },
  {
   "cell_type": "markdown",
   "id": "46df47f1-465d-4519-8d9b-f8d08a806a78",
   "metadata": {},
   "source": [
    " However, in case of small $p$ and large $K$ this phenomena naturally occurs."
   ]
  },
  {
   "cell_type": "markdown",
   "id": "17bb5ba9-b2ba-4bfe-b9fa-2c837ccfc560",
   "metadata": {},
   "source": [
    "##### Data"
   ]
  },
  {
   "cell_type": "code",
   "execution_count": 13,
   "id": "28fe61de-6e31-4537-9c63-a7179465c135",
   "metadata": {},
   "outputs": [],
   "source": [
    "import pandas as pd\n",
    "from sklearn.preprocessing import OneHotEncoder"
   ]
  },
  {
   "cell_type": "code",
   "execution_count": 14,
   "id": "4ff7a38f-0c6d-4947-a22f-63a352599587",
   "metadata": {},
   "outputs": [],
   "source": [
    "# Load data\n",
    "data = pd.read_csv(\"../../data/vowel.csv\", sep=\";\")\n",
    "\n",
    "# Prepare data\n",
    "train_bool = \"is_train\"\n",
    "target = \"y\"\n",
    "\n",
    "# Shift by -1 all the classes to simplify the use of argmax function\n",
    "# or alternatively shift by +1 the predicted classes.\n",
    "data[target] = data[target] - 1\n",
    "\n",
    "data_train = data[data[train_bool] == 1]\n",
    "data_test = data[data[train_bool] == 0]\n",
    "\n",
    "features = list(data_train.columns)\n",
    "features.remove(target)\n",
    "features.remove(train_bool)\n",
    "\n",
    "X_train = data_train[features].values\n",
    "X_test = data_test[features].values\n",
    "\n",
    "y_train = data_train[target].values\n",
    "y_test = data_test[target].values\n",
    "\n",
    "enc = OneHotEncoder()\n",
    "y_train_one = enc.fit_transform(y_train.reshape(-1,1)).toarray()"
   ]
  },
  {
   "cell_type": "markdown",
   "id": "b338aa29-f2af-4b4f-ad31-0a9c9c8271b4",
   "metadata": {},
   "source": [
    "##### Fit, prediction and errors"
   ]
  },
  {
   "cell_type": "code",
   "execution_count": 15,
   "id": "6e42fd78-4d51-4333-99e6-d4924586c80a",
   "metadata": {},
   "outputs": [],
   "source": [
    "from sklearn.metrics import accuracy_score"
   ]
  },
  {
   "cell_type": "code",
   "execution_count": 16,
   "id": "2ebc54eb-2b3b-4fb1-9524-b441bb8789f8",
   "metadata": {},
   "outputs": [
    {
     "name": "stdout",
     "output_type": "stream",
     "text": [
      "The training error rate is 0.48 and the test error rate is 0.67\n"
     ]
    }
   ],
   "source": [
    "reg_linear = LinearRegression()\n",
    "reg_linear.fit(X_train, y_train_one)\n",
    "\n",
    "y_train_pred = np.argmax(reg_linear.predict(X_train), axis=1)\n",
    "y_test_pred = np.argmax(reg_linear.predict(X_test), axis=1)\n",
    "\n",
    "train_error = 1 - accuracy_score(y_train, y_train_pred)\n",
    "test_error = 1 - accuracy_score(y_test, y_test_pred)\n",
    "\n",
    "print(f\"The training error rate is {train_error:.2f} \"\n",
    "      f\"and the test error rate is {test_error:.2f}\")"
   ]
  },
  {
   "cell_type": "markdown",
   "id": "a5240f93-b8f1-4bba-af8a-208eea28eb62",
   "metadata": {},
   "source": [
    "##### Improvement with polynomial features ?"
   ]
  },
  {
   "cell_type": "code",
   "execution_count": 17,
   "id": "77d812c5-5ee3-4dc8-bce8-64a57ba5941d",
   "metadata": {},
   "outputs": [],
   "source": [
    "from sklearn.preprocessing import PolynomialFeatures"
   ]
  },
  {
   "cell_type": "code",
   "execution_count": 18,
   "id": "79120736-af19-44e3-86df-66a7ab2b81f1",
   "metadata": {},
   "outputs": [
    {
     "name": "stdout",
     "output_type": "stream",
     "text": [
      "For polynomial of degree 2 the training error is 0.06 and the test error is 0.56\n",
      "For polynomial of degree 3 the training error is 0.02 and the test error is 0.73\n",
      "For polynomial of degree 4 the training error is 0.00 and the test error is 0.71\n",
      "For polynomial of degree 5 the training error is 0.00 and the test error is 0.69\n",
      "For polynomial of degree 6 the training error is 0.00 and the test error is 0.73\n",
      "For polynomial of degree 7 the training error is 0.00 and the test error is 0.75\n",
      "For polynomial of degree 8 the training error is 0.00 and the test error is 0.77\n",
      "For polynomial of degree 9 the training error is 0.00 and the test error is 0.82\n",
      "For polynomial of degree 10 the training error is 0.00 and the test error is 0.84\n"
     ]
    }
   ],
   "source": [
    "degree = list(range(2,11))\n",
    "train_error_poly = []\n",
    "test_error_poly = []\n",
    "\n",
    "for d in degree:\n",
    "    poly = PolynomialFeatures(d)\n",
    "    X_train_poly = poly.fit_transform(X_train)\n",
    "    X_test_poly = poly.fit_transform(X_test)\n",
    "\n",
    "    reg_poly = LinearRegression()\n",
    "    reg_poly.fit(X_train_poly, y_train_one)\n",
    "\n",
    "    y_train_pred_poly = np.argmax(reg_poly.predict(X_train_poly), axis=1)\n",
    "    y_test_pred_poly = np.argmax(reg_poly.predict(X_test_poly), axis=1)\n",
    "\n",
    "    train_error_poly = 1 - accuracy_score(y_train, y_train_pred_poly)\n",
    "    test_error_poly = 1 - accuracy_score(y_test, y_test_pred_poly)\n",
    "    \n",
    "    print(f\"For polynomial of degree {d} the training error is {train_error_poly:.2f}\"\n",
    "          f\" and the test error is {test_error_poly:.2f}\")"
   ]
  },
  {
   "cell_type": "markdown",
   "id": "45d927a9-776e-4596-b58d-ed6bfbeffe79",
   "metadata": {},
   "source": [
    "In all the cases, there is overfitting. \n",
    "\n",
    "The linear regression with polynomial of degree 2 shows a clear improvement for the test error."
   ]
  }
 ],
 "metadata": {
  "kernelspec": {
   "display_name": "Python 3 (ipykernel)",
   "language": "python",
   "name": "python3"
  },
  "language_info": {
   "codemirror_mode": {
    "name": "ipython",
    "version": 3
   },
   "file_extension": ".py",
   "mimetype": "text/x-python",
   "name": "python",
   "nbconvert_exporter": "python",
   "pygments_lexer": "ipython3",
   "version": "3.9.13"
  }
 },
 "nbformat": 4,
 "nbformat_minor": 5
}
