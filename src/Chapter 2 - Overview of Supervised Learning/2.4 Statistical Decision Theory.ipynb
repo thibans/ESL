{
 "cells": [
  {
   "cell_type": "code",
   "execution_count": 1,
   "id": "e9041d6b-7c9d-49b1-a98c-14d0e826a23b",
   "metadata": {},
   "outputs": [],
   "source": [
    "%matplotlib inline"
   ]
  },
  {
   "cell_type": "markdown",
   "id": "f33a00bc-0a4d-454c-ae2c-c24ce048bc09",
   "metadata": {},
   "source": [
    "## 2.4 Statistical Decision Theory"
   ]
  },
  {
   "cell_type": "markdown",
   "id": "8427d310-3fb8-4e51-bddc-952899af4d9f",
   "metadata": {},
   "source": [
    "### Expected prediction error (EPE)"
   ]
  },
  {
   "cell_type": "markdown",
   "id": "af1291ef-e2f7-44aa-a019-deaa776e70e7",
   "metadata": {},
   "source": [
    "We define the following elements:\n",
    "- Features $X\\in\\mathbb{R}^p$ a random variable\n",
    "- Output $Y\\in\\mathbb{R}$ a random variable\n",
    "- Prediction function $f$, such that $\\hat{Y}=f\\left(X\\right)$\n",
    "- Loss function $L$, the squared error such that, $L\\left(Y,f\\left(X\\right)\\right)=\\left(Y-f\\left(X\\right)\\right)^2$"
   ]
  },
  {
   "cell_type": "markdown",
   "id": "a1c2c2bb-2745-499a-8bdb-7938e46598b1",
   "metadata": {
    "tags": []
   },
   "source": [
    "The aim is to find $f$ to minimize the $EPE$.\n",
    "\n",
    "The expected prediction error is defined as,\n",
    "\n",
    "$$EPE\\left(f\\right)=E_{X,Y}\\left[L\\left(Y,f\\left(X\\right)\\right)\\right]$$\n",
    "\n",
    "In case of squared error loss function,\n",
    "\n",
    "$$EPE\\left(f\\right)=E_{X,Y}\\left[\\left(Y-f\\left(X\\right)\\right)^2\\right] \\tag {2.9}$$\n",
    "\n",
    "Expected value in integral form with $f_{X,Y}$ the joint distribution pdf of $(X,Y)$,\n",
    "\n",
    "$$EPE\\left(f\\right)=\\int_{\\mathcal{D}_x}\\int_{\\mathcal{D}_y}{\\left(Y-f\\left(X\\right)\\right)^2f_{X,Y}\\left(x,y\\right)dxdy} \\tag{2.10}$$\n",
    "\n",
    "By using the definition of conditional probability,\n",
    "\n",
    "$EPE\\left(f\\right)=\\int_{\\mathcal{D}_x}\\int_{\\mathcal{D}_y}\\left(Y-f\\left(X\\right)\\right)^2f_{Y|X}\\left(y|x\\right)f_X\\left(x\\right)dxdy=\\int_{\\mathcal{D}_x}\\ E_{Y|X}\\left[\\left(Y-f\\left(X\\right)\\right)^2|X\\right]f_X\\left(x\\right)dx$\n",
    "\n",
    "Therefore the $EPE$ can be write as,\n",
    "\n",
    "$$EPE\\left(f\\right)=E_X\\left[E_{Y|X}\\left[\\left(Y-f\\left(X\\right)\\right)^2|X\\right]\\right]$$\n",
    "\n",
    "Then, to minimize the $EPE$ if the $X$ random variable is fixed we define $f$ for each $x\\in\\mathbb{R}$ such that,\n",
    "\n",
    "$$f\\left(x\\right)=\\underset{c\\in\\mathcal{D}_y}{argmin}E_{Y|X}\\left[\\left(Y-c\\right)^2|X=x\\right] \\tag{2.12}$$\n",
    "\n",
    "$c\\longmapsto\\left(Y-c\\right)^2$ is a convex function then the value of $c$ that minimizes the $EPE$ respects,\n",
    "\n",
    "$\\Longleftrightarrow\\frac{d}{dc}E_{Y|X}\\left[\\left(Y-c\\right)^2|X=x\\right]=0$\n",
    "\n",
    "$\\Longleftrightarrow\\int_{\\mathcal{D}_y}{{\\frac{d}{dc}\\left(y-c\\right)}^2f_{Y|X}\\left(Y|X=x\\right)dy=0}$ because the bounds of the integral are constant\n",
    "\n",
    "$\\Longleftrightarrow\\int_{\\mathcal{D}_y}{f_{Y|X}\\left(Y|X=x\\right)2\\left(c-y\\right)dy=0}$\n",
    "\n",
    "$\\Longleftrightarrow\\ c\\int_{\\mathcal{D}_y}{f_{Y|X}\\left(Y|X=x\\right)dy}-\\int_{\\mathcal{D}_y}{f_{Y|X}\\left(Y|X=x\\right)ydy=0}$\n",
    "\n",
    "$\\Longleftrightarrow\\ c=\\int_{\\mathcal{D}_y}{yf_{Y|X}\\left(Y|X=x\\right)dy}$\n",
    "\n",
    "Therefore, for each $x\\in\\mathbb{R}$,\n",
    "\n",
    "$$f\\left(x\\right)=E\\left[Y\\middle| X=x\\right] \\tag {2.13}$$\n",
    "\n",
    "This solution is called the <strong>regression function</strong>."
   ]
  },
  {
   "cell_type": "markdown",
   "id": "7fbcbcb5-d61b-4d94-a2fb-570adcb14d21",
   "metadata": {},
   "source": [
    "### How nearest-neighbor fit to EPE?"
   ]
  },
  {
   "cell_type": "markdown",
   "id": "743b9788-35a0-4ddf-955b-af51e8c7abad",
   "metadata": {},
   "source": [
    "k-NN directly approximates the equation (2.13), as (2.8) could be rewrite such as,\n",
    "\n",
    "$$\\hat{f}\\left(x\\right)=Mean\\left(y_i|x_i\\in N_k\\left(x\\right)\\right)$$\n",
    "\n",
    "In addition, if $P[X,Y]$ respects the mild regularity condition then for $N,k\\rightarrow\\infty$ and $N/k\\rightarrow0$ we have,\n",
    "\n",
    "$$\\hat{f}\\left(x\\right)\\rightarrow\\ E\\left[Y|X=x\\right]$$\n",
    "\n",
    "But:\n",
    "- In reality, $N\\rightarrow\\infty$ does not exist. \n",
    "- Even if we have numerous observations, in high dimension, the nearest neighbors will be probably far from the target point, which could result in large errors.\n",
    "-  If a structure model is appropriate we can have more stable estimate."
   ]
  },
  {
   "cell_type": "markdown",
   "id": "f1f628dd-659c-42c5-a420-369e296b767c",
   "metadata": {},
   "source": [
    "### EPE solution if the loss function is the absolute difference"
   ]
  },
  {
   "cell_type": "markdown",
   "id": "f22163fa-0297-4237-bdd1-da46f5bb7443",
   "metadata": {},
   "source": [
    "Same framework as 2.4.1 expect that the loss function $L$ is the aboslute difference such that,\n",
    "$L\\left(X,f\\left(X\\right)\\right)=\\left|X-f\\left(X\\right)\\right|$\n",
    "\n",
    "$$EPE\\left(f\\right)=E_{Y|X}\\left[abs\\left(X-f\\left(X\\right)\\right)|\\ X\\right]\\ $$\n",
    "\n",
    "For each $x\\in\\mathbb{R}$, $f$ minimizes pointwise the $EPE$ such that,\n",
    "\n",
    "$$f\\left(x\\right)=argmin_cE_{Y|X}\\left[abs\\left(Y-c\\right)|X=x\\right]$$\n",
    "\n",
    "$c\\longmapsto\\ abs\\left(c-Y\\right)$ is a convex function then the value of $c$ that minimizes the $EPE$ respects,\n",
    "\n",
    "$\\Longleftrightarrow\\frac{d}{dc}E_{Y|X}\\left[abs\\left(Y-c\\right)|X=x\\right]=0$\n",
    "\n",
    "$\\Longleftrightarrow\\int_{-\\infty}^{+\\infty}{\\frac{d}{dc}\\left|y-c\\right|{pdf}_{Y|X}\\left(y\\right)dy}=0$\n",
    "\n",
    "$\\Longleftrightarrow\\int_{-\\infty}^{+\\infty}{\\frac{y-c}{\\left|y-c\\right|}f_{Y|X}\\left(y\\right)dy}=0$\n",
    "\n",
    "$\\Longleftrightarrow-\\int_{-\\infty}^{c}{f_{Y|X}\\left(y\\right)dy}+\\int_{c}^{+\\infty}{f_{Y|X}\\left(y\\right)dy}=0$\n",
    "\n",
    "$\\Longleftrightarrow \\int_{-\\infty}^{c}{f_{Y|X}\\left(y\\right)dy}=\\int_{c}^{+\\infty}{f_{Y|X}\\left(y\\right)dy}$\n",
    "\n",
    "$\\Longleftrightarrow F_{Y|X}\\left(c\\right)=1-F_{Y|X}\\left(c\\right)$\n",
    "\n",
    "$\\Longleftrightarrow F_{Y|X}\\left(c\\right)=\\frac{1}{2}$\n",
    "\n",
    "Therefore, for each $x\\in\\mathbb{R}$,\n",
    "\n",
    "$$f\\left(x\\right)=median\\left(Y|X=x\\right) \\tag{2.18}$$"
   ]
  },
  {
   "cell_type": "markdown",
   "id": "44590f2e-a4a6-4880-abb4-38041cb301bc",
   "metadata": {},
   "source": [
    "### EPE if the output is categorial"
   ]
  },
  {
   "cell_type": "markdown",
   "id": "d3b31576-ea9d-4573-91d8-2ae87ea691a7",
   "metadata": {},
   "source": [
    "We define the following elements:\n",
    "- Features $X\\in\\mathbb{R}^p$ a random variable\n",
    "- Output $G\\in\\mathcal{G}$ a random variable with $\\mathcal{G}$ the set of possible classes (i.e. a discontinuous set) and $card\\left(\\mathcal{G}\\right)=K$\n",
    "- Prediction function $G$\n",
    "- Loss function $L$ such that, $L(i,j)=\\begin{cases} L(i,j)\\in \\mathbb{R}_+, & i \\neq j\\\\ 0, & \\text{otherwise} \\end{cases}$"
   ]
  },
  {
   "cell_type": "markdown",
   "id": "e39ac1cb-ba7c-4517-a14a-d19dde4ee347",
   "metadata": {},
   "source": [
    "$EPE=E_{X,G}\\left[L\\left(G,G\\left(X\\right)\\right)\\right]$\n",
    "\n",
    "$EPE=\\sum_{k=1}^{K}{L\\left(\\mathcal{G}_k ,G\\left(X\\right)\\right)P\\left[G_k,X\\right]}$\n",
    "\n",
    "$EPE=\\sum_{k=1}^{K}L\\left(\\mathcal{G}_k ,G\\left(X\\right)\\right)P\\left[G_k|X\\right]P\\left[X\\right]$\n",
    "\n",
    "$EPE=\\sum_{k=1}^{K}L\\left(\\mathcal{G}_k ,G\\left(X\\right)\\right)P\\left[G_k|X\\right]$\n",
    "\n",
    "The function $G$ is defined pointwise such that for each $G\\in\\mathcal{G}$,\n",
    "\n",
    "$$G\\left(X\\right)=\\underset{g\\in\\mathcal{G}}{argmin}{\\sum_{k=1}^{K}L\\left(\\mathcal{G}_k ,c\\right)P\\left[G_k|X=x\\right]}$$\n",
    "\n",
    "$\\Longleftrightarrow G\\left(X\\right)=\\underset{g\\in\\mathcal{G}}{argmin}{\\sum_{k=1}^{K}\\left(1-1_{\\mathcal{G}_k=c}\\right)P\\left[\\mathcal{G}_k |X=x\\right]}$ because $1_{i\\neq j}=1-1_{i=j}$\n",
    "\n",
    "$\\Longleftrightarrow G\\left(X\\right)=\\underset{g\\in\\mathcal{G}}{argmin}{\\left\\{\\sum_{k=1}^{K}P\\left[\\mathcal{G}_k|X=x\\right]-\\sum_{k=1}^{K}{1_{G_k=c}P\\left[\\mathcal{G}_k|X=x\\right]}\\right\\}}$\n",
    "\n",
    "$\\Longleftrightarrow G\\left(X\\right)=\\underset{g\\in\\mathcal{G}}{argmin}{\\left\\{1-P\\left[c|X=x\\right]\\right\\}}$\n",
    "\n",
    "$\\Longleftrightarrow G\\left(x\\right)=\\mathcal{G}_k$ if $P\\left[\\mathcal{G}_k|X=x\\right]=\\underset{g\\in\\mathcal{G}}{max}P\\left[g|X=x\\right]$\n",
    "\n",
    "Therefore, we classify to the most probable class using the conditional distribution $G|X$.\n",
    "\n",
    "This solution is known as Bayes classifier. This classifier is optimal as it produces the lowest error rate among all the other classifiers. Unfortunately, in reality the condition distribution $G|X$ is unknown, so computing the Bayes classifier is impossible.\n",
    "\n",
    "The classifiers try to approximate this conditional proability as k-nearest neighbor with a direct approximation."
   ]
  },
  {
   "cell_type": "markdown",
   "id": "be86bd9d-f06b-4a49-8ddf-99815f98f90d",
   "metadata": {},
   "source": [
    "#### Example: Bayes classifier"
   ]
  },
  {
   "cell_type": "markdown",
   "id": "7fb1127e-5464-4469-b0c3-c18856757028",
   "metadata": {},
   "source": [
    "##### Data"
   ]
  },
  {
   "cell_type": "code",
   "execution_count": 2,
   "id": "ba4aeb68-d81a-4e1a-b49b-ebab3b4c77f1",
   "metadata": {},
   "outputs": [],
   "source": [
    "import numpy as np\n",
    "import numpy.random as rand\n",
    "from scipy.stats import multivariate_normal as multi_normal"
   ]
  },
  {
   "cell_type": "code",
   "execution_count": 3,
   "id": "718cce29-555a-43bc-8c7f-0fa35c22a60e",
   "metadata": {},
   "outputs": [],
   "source": [
    "# We use the function defined in section 2.3 with a slight\n",
    "# modification to return the mean of the two classes.\n",
    "def generate_data(sample_size: int) -> tuple:\n",
    "\n",
    "    # Parameters for mean gaussian distribution\n",
    "    mean_expected_blue = [0.5,0]\n",
    "    mean_expected_orange = [0,0.5]\n",
    "    mean_cov = np.eye(2)\n",
    "    \n",
    "    # Generate 10 means for blue class and orange class\n",
    "    nb_real = 10\n",
    "    sample_blue_mean = rand.multivariate_normal(mean_expected_blue,\n",
    "                                                mean_cov, nb_real)\n",
    "    sample_orange_mean = rand.multivariate_normal(mean_expected_orange,\n",
    "                                                  mean_cov, nb_real)\n",
    "    \n",
    "    # Covariance for data gaussian distribution\n",
    "    data_cov = np.eye(2)/5\n",
    "    \n",
    "    # Function that generates an observation for the blue class\n",
    "    x_blue = lambda : rand.multivariate_normal(sample_blue_mean[rand.randint(0, 9)],\n",
    "                                               data_cov)\n",
    "    # Function that generates an observation for the orange class\n",
    "    x_orange = lambda : rand.multivariate_normal(sample_orange_mean[rand.randint(0, 9)],\n",
    "                                                 data_cov)\n",
    "    # Generate the sample X\n",
    "    X = np.array([\n",
    "        np.vstack((x_blue(), x_orange()))\n",
    "        for _ in range(int(sample_size/2))\n",
    "    ])\n",
    "    \n",
    "    X = X.reshape(sample_size, 2)\n",
    "  \n",
    "    # Generate the sample y\n",
    "    y = np.empty((sample_size,))\n",
    "    y[::2] = 0\n",
    "    y[1::2] = 1\n",
    "    \n",
    "    return (X, y, sample_blue_mean, sample_orange_mean)"
   ]
  },
  {
   "cell_type": "code",
   "execution_count": 4,
   "id": "9e36634b-a602-4a3e-8a5d-11d100044e99",
   "metadata": {},
   "outputs": [],
   "source": [
    "# Generate data\n",
    "sample_size = 200\n",
    "X, y, blue_mean, orange_mean = generate_data(sample_size)\n",
    "X_blue = X[y == 0, :]\n",
    "X_orange = X[y == 1, :]"
   ]
  },
  {
   "cell_type": "markdown",
   "id": "15028ca9-c7ae-46f0-b692-b1ee1cc5d46e",
   "metadata": {},
   "source": [
    "##### Conditional distribution"
   ]
  },
  {
   "cell_type": "code",
   "execution_count": 5,
   "id": "df452ac2-1892-4d57-ad3c-d02adb210390",
   "metadata": {},
   "outputs": [],
   "source": [
    "# Pdf of the two classes as defined in section 2.2\n",
    "def pdf_data(x: np.ndarray, mean: np.ndarray) ->np.array: \n",
    "    return np.mean([multi_normal.pdf(x, mean=m, cov=np.eye(2)/5)\n",
    "                    for m in mean], axis=0)"
   ]
  },
  {
   "cell_type": "markdown",
   "id": "71f7cd61-6347-4ff4-b540-9b3b147c0a24",
   "metadata": {},
   "source": [
    "##### Plot results"
   ]
  },
  {
   "cell_type": "code",
   "execution_count": 6,
   "id": "d5644703-ab49-4c11-a721-93c315b7a56a",
   "metadata": {},
   "outputs": [],
   "source": [
    "import matplotlib.pyplot as plt"
   ]
  },
  {
   "cell_type": "code",
   "execution_count": 7,
   "id": "a97e5512-9f32-4fdf-aa92-ce81fba2ce39",
   "metadata": {},
   "outputs": [],
   "source": [
    "# Plot the data\n",
    "def plot_data(x_blue: np.ndarray, x_orange:np.ndarray):\n",
    "    \n",
    "    fig, ax = plt.subplots(1, figsize=(5, 3.5))\n",
    "    \n",
    "    ax.scatter(x_blue[:, 0], x_blue[:, 1], marker='o', s=20,\n",
    "               linewidth=0.8, facecolors='none', edgecolors='blue')\n",
    "    ax.scatter(x_orange[:, 0], x_orange[:, 1], marker='o', s=20,\n",
    "               linewidth=0.8, facecolors='none', edgecolors='orange')\n",
    "    ax.plot()\n",
    "    \n",
    "    return ax"
   ]
  },
  {
   "cell_type": "code",
   "execution_count": 8,
   "id": "2e8b8138-4c6e-4a85-bcec-7ecba21dfd52",
   "metadata": {},
   "outputs": [
    {
     "data": {
      "image/png": "[encoded data removed]",
      "text/plain": [
       "<Figure size 500x350 with 1 Axes>"
      ]
     },
     "metadata": {},
     "output_type": "display_data"
    }
   ],
   "source": [
    "ax = plot_data(X_blue, X_orange)\n",
    "\n",
    "# get the x and y limits of the axis\n",
    "x1_min, x1_max = ax.get_xlim()\n",
    "x2_min, x2_max = ax.get_ylim()\n",
    "\n",
    "# set the number of points in the grid\n",
    "nb_point_ax = 70\n",
    "\n",
    "# create a grid of points covering the axis limits\n",
    "grid = np.array([[i,j] \n",
    "                 for i in np.linspace(x1_min, x1_max, nb_point_ax)\n",
    "                 for j in np.linspace(x2_min, x2_max, nb_point_ax)])\n",
    "\n",
    "# Classify each point in the grid as belonging to the orange or blue class\n",
    "# by comparing the probability density at that point.\n",
    "y_grid_pred = pdf_data(grid, orange_mean) > pdf_data(grid, blue_mean)\n",
    "y_grid_pred = y_grid_pred.astype(int)\n",
    "\n",
    "# Separate the points in the grid by class\n",
    "grid_blue = grid[y_grid_pred==0]\n",
    "grid_orange = grid[y_grid_pred==1]\n",
    "\n",
    "# Plot the points in the grid as a scatter plot\n",
    "ax.scatter(grid_blue[:, 0], grid_blue[:, 1], marker='.',\n",
    "           color='blue', alpha=0.5, s=1)\n",
    "ax.scatter(grid_orange[:, 0], grid_orange[:, 1], marker='.',\n",
    "           color='orange', alpha=0.5, s=1)\n",
    "\n",
    "# Reset the axis limits\n",
    "ax.set_xlim(x1_min, x1_max)\n",
    "ax.set_ylim(x2_min, x2_max)\n",
    "\n",
    "ax.set_title(\"Bayes Optimal Classifier\")\n",
    "\n",
    "plt.show()"
   ]
  }
 ],
 "metadata": {
  "kernelspec": {
   "display_name": "Python 3 (ipykernel)",
   "language": "python",
   "name": "python3"
  },
  "language_info": {
   "codemirror_mode": {
    "name": "ipython",
    "version": 3
   },
   "file_extension": ".py",
   "mimetype": "text/x-python",
   "name": "python",
   "nbconvert_exporter": "python",
   "pygments_lexer": "ipython3",
   "version": "3.9.13"
  }
 },
 "nbformat": 4,
 "nbformat_minor": 5
}
